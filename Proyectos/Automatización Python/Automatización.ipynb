{
 "cells": [
  {
   "cell_type": "code",
   "execution_count": 4,
   "id": "f62eaef1-c3ab-4b38-b3d6-75cbc6769356",
   "metadata": {},
   "outputs": [],
   "source": [
    "import pdfplumber as pdf\n",
    "import pandas as pd\n",
    "import re\n",
    "import os"
   ]
  },
  {
   "cell_type": "code",
   "execution_count": 6,
   "id": "7a8a95f9-18a2-4b8a-a5b9-bc52ec7f6444",
   "metadata": {},
   "outputs": [
    {
     "name": "stdout",
     "output_type": "stream",
     "text": [
      "El pdf tiene 1 páginas\n"
     ]
    }
   ],
   "source": [
    "#Crear una variable base en la que se guarda el path del PDF a leer\n",
    "pdf_path = \"C:\\\\Users\\\\Carlos\\\\OneDrive\\\\Escritorio\\\\Juan\\\\Vales\\\\Vale 2.pdf\"\n",
    "\n",
    "#Se abre el archivo en cuestión\n",
    "with pdf.open(pdf_path) as pdf:\n",
    "    #Se imprime el numero de paginas del pdf\n",
    "    print(f'El pdf tiene {len(pdf.pages)} páginas')"
   ]
  },
  {
   "cell_type": "markdown",
   "id": "1a66689b-5595-419d-a45b-85bc88e2b25b",
   "metadata": {},
   "source": [
    "### Extraer las tablas"
   ]
  },
  {
   "cell_type": "code",
   "execution_count": 8,
   "id": "6845446c-c9bc-4cb4-8a6a-a5d0b9b58fa1",
   "metadata": {},
   "outputs": [
    {
     "name": "stdout",
     "output_type": "stream",
     "text": [
      "Página 1:Se encontraton 8 tablas\n"
     ]
    }
   ],
   "source": [
    "with pdf.open(pdf_path) as pdf:\n",
    "    #Crear un ciclo en el que se itere en cada una de las páginas del pdf\n",
    "    for page_number, page in enumerate(pdf.pages, start=1):\n",
    "    #Extrar las tablas de la pagina\n",
    "        tables = page.extract_tables()\n",
    "        print(f'Página {page_number}:Se encontraton {len(tables)} tablas')"
   ]
  },
  {
   "cell_type": "code",
   "execution_count": 5,
   "id": "e84ce179-366e-4b89-9a85-f41923de6a49",
   "metadata": {},
   "outputs": [],
   "source": [
    "# Ruta al archivo PDF\n",
    "carpeta_pdfs = \"C:\\\\Users\\\\Carlos\\\\OneDrive\\\\Escritorio\\\\Juan\\\\Vales2\"\n",
    "\n",
    "# Expresiones para extraer la información necesaria\n",
    "unidad_pattern = r\"Unidad\\s*([A-Z]{2}\\d{2,3})\"\n",
    "fecha_pattern = r\"Fecha\\s*(\\d{2}/\\d{2}/\\d{4})\\b\"\n",
    "vale_pattern = r\"No\\. Vale\\s*(\\d{1,4})\"\n",
    "material_pattern = r\"Cantidad En Litros\\s*([A-Z][a-z]{4,9})\"\n",
    "cantidad_pattern= r\"(\\d{1,5}\\.\\d{2})\\s+Firma\"\n",
    "\n",
    "lista_datos = []\n",
    "\n",
    "# Iterar sobre los archivos en la carpeta\n",
    "for filename in os.listdir(carpeta_pdfs):\n",
    "    if filename.endswith(\".pdf\"):\n",
    "        pdf_path = os.path.join(carpeta_pdfs, filename)\n",
    "        \n",
    "        # Extraer texto del PDF\n",
    "        with pdf.open(pdf_path) as pdf:\n",
    "            text = \"\"\n",
    "            for page in pdf.pages:\n",
    "                text += page.extract_text()\n",
    "\n",
    "\n",
    "        #Se extraen cada uno de los valores dentro del texto(text)\n",
    "        unidad_match = re.search(unidad_pattern,text)\n",
    "        fecha_match = re.search(fecha_pattern,text)\n",
    "        vale_match = re.search(vale_pattern,text)\n",
    "        material_match =re.search(material_pattern,text)\n",
    "        cantidad_match = re.search(cantidad_pattern,text)\n",
    "\n",
    "        #Se almacenan los datos dentro de un diccionario\n",
    "        datos ={\n",
    "            \"Archivo\":filename,\n",
    "            \"Unidad\": unidad_match.group(1) if unidad_match else None,\n",
    "            \"Fecha\": fecha_match.group(1) if fecha_match else None,\n",
    "            \"Vale\": vale_match.group(1) if vale_match else None,\n",
    "            \"Material\": material_match.group(1) if material_match else None,\n",
    "            \"Cantidad\": cantidad_match.group(1) if cantidad_match else None, \n",
    "        }\n",
    "        lista_datos.append(datos)\n",
    "\n",
    "#Crear un dataframe con los datos\n",
    "pd = pd.DataFrame(lista_datos)\n",
    "\n",
    "pd.to_excel(\"C:\\\\Users\\\\Carlos\\\\OneDrive\\\\Escritorio\\\\Juan\\\\Vales\\\\datos_combus3.xlsx\",index=False)"
   ]
  },
  {
   "cell_type": "code",
   "execution_count": 18,
   "id": "37baf619-8e46-49c9-a6b5-de9ec41e4c8d",
   "metadata": {},
   "outputs": [
    {
     "name": "stdout",
     "output_type": "stream",
     "text": [
      "Coincidencia encontrada: 1000.00\n"
     ]
    }
   ],
   "source": []
  }
 ],
 "metadata": {
  "kernelspec": {
   "display_name": "Python 3 (ipykernel)",
   "language": "python",
   "name": "python3"
  },
  "language_info": {
   "codemirror_mode": {
    "name": "ipython",
    "version": 3
   },
   "file_extension": ".py",
   "mimetype": "text/x-python",
   "name": "python",
   "nbconvert_exporter": "python",
   "pygments_lexer": "ipython3",
   "version": "3.12.2"
  }
 },
 "nbformat": 4,
 "nbformat_minor": 5
}
